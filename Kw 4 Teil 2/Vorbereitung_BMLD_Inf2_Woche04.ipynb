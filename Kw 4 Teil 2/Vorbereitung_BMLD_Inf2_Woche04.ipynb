{
 "cells": [
  {
   "cell_type": "markdown",
   "metadata": {},
   "source": [
    "Vorbereitung Woche 4, BMLD Informatik 2\n",
    "\n",
    "# GitHub als Datenspeicher verwenden\n",
    "\n",
    "In unserem Projekt verwenden wir GitHub für zwei verschieden Zwecke\n",
    "1. Zusammenarbeit und App in die Cloud bringen (Woche 3)\n",
    "2. Daten der App in der Cloud speichern (Woche 4)\n",
    "\n",
    "Diese Vorbereitung dient dazu, die Daten deiner App in der Cloud zu speichern. Dazu musst du folgende Schritte unternehmen:\n",
    "\n",
    "### Schritt 1 - Erstelle ein **privates** GitHub Repository für die Daten \n",
    "\n",
    "Die Daten deiner App speicherst du am besten einem zweiten, privaten GitHub Repo. So sind die Daten vom Code getrennt und nur du kannst die Daten sehen. Das neue Repo könnte `myapp-daten` heissen oder ähnlich. Gehe so vor, wie du es in Woche 3 gelernt hast.\n",
    "\n",
    "### Schritt 2 - Gehe zum passenden Menu um den Token zu erstellen\n",
    "\n",
    "Um von Python Daten auf GitHub schreiben zu können, braucht es einen Identifikations-Schlüssel, auch [Token](https://en.wikipedia.org/wiki/Access_token) genannt. Im Folgenden generierst einen solchen Token für dein Daten-Repo. Folgende Schritte führen dich zum passenden Menu (siehe auch [Managing your personal access tokens](https://docs.github.com/en/enterprise-server@3.9/authentication/keeping-your-account-and-data-secure/managing-your-personal-access-tokens#)):\n",
    "\n",
    "1. Gehe zu deiner GitHub-Account-übersicht oben rechts unter deinem User-Logo\n",
    "2. Wähle Settings (oder Einstellungen)\n",
    "3. Wähle \"Developer Settings\" (oder Entwickler Einstellungen) im Menu links ganz unten\n",
    "4. Wähle \"Personal access tokens\" -> \"Fine-grained tokens\"\n",
    "\n",
    "### Schritt 3 - Erstelle den Token\n",
    "\n",
    "Fülle das Menu wie folgt aus\n",
    "1. Wähle einen passenden Namen für dein Token: \"myapp-data-access\" oder ähnlich\n",
    "2. Wähle eine \"custom Expiration\" irgendwann nach Ende des Moduls\n",
    "3. Wähle \"only select repositories\" unter \"Repository access\" und wähle hier dein Daten-Repo\n",
    "4. Unter \"Repository permissions\" wähle \"read and write\" für **Contents**\n",
    "5. Bestätige ganz unten und kopieren den Token an einen sicheren Ort\n",
    "\n",
    "\n",
    "### Schritt 3 - Teste den Token mit dem Code unten\n",
    "\n",
    "#### Erstelle ein `GithubContents` Objekt in Python\n",
    "\n",
    "Die Datei `github_contents.py` (auch auf Moodle) muss im gleichen Ordner liegen wie diese Notebook. Es enthält das Python-Package, um auf GitHub zuzugreifen. Erstellen zuerst ein `GitHubContents` Objekt mit deinem GitHub Username, Repo Name und Token: "
   ]
  },
  {
   "cell_type": "code",
   "execution_count": null,
   "metadata": {},
   "outputs": [],
   "source": [
    "from github_contents import GithubContents\n",
    "\n",
    "github = GithubContents(\n",
    "    \"user-name\",          # your github username\n",
    "    \"data-repo-name\",     # the repo where the data is stored\n",
    "    token=\"your-token\",   # your github token\n",
    "    branch=\"main\"\n",
    ")"
   ]
  },
  {
   "cell_type": "markdown",
   "metadata": {},
   "source": [
    "#### Test-Code\n",
    "\n",
    "Lasse den folgende Test-Code in GitHub laufen "
   ]
  },
  {
   "cell_type": "code",
   "execution_count": null,
   "metadata": {},
   "outputs": [],
   "source": [
    "from datetime import datetime\n",
    "\n",
    "print(\"Token Test\")\n",
    "print(\"-\" * 10)\n",
    "print(\"Repo:\", github.repo)\n",
    "print(\"Owner:\", github.owner)\n",
    "print(\"Time:\", datetime.now())\n",
    "\n",
    "text = f\"Herzlichen Glückwunsch, {github.owner}!\"\n",
    "message = f\"Token test\"\n",
    "\n",
    "# write test\n",
    "print(\"\\nWrite test:\")\n",
    "try:\n",
    "    content_sha, commit_sha = github.write(\n",
    "        filepath=\"test.json\",\n",
    "        content_bytes=text.encode(\"utf-8\"),\n",
    "        commit_message=message,\n",
    "    )\n",
    "    print(message, \"... succeeded\")\n",
    "except Exception as e:\n",
    "    print(message, \"... failed:\", e)\n",
    "\n",
    "# read test\n",
    "print(\"\\nRead test:\")\n",
    "try:\n",
    "    content, sha = github.read(\"test.json\")\n",
    "    print(message, \"... succeeded\") \n",
    "except Exception as e:\n",
    "    print(message, \"... failed:\", e)\n",
    "\n",
    "# content check test\n",
    "print(\"\\nContent check test:\")\n",
    "try:\n",
    "    assert content.decode(\"utf-8\") == text\n",
    "    print(message, \"... succeeded\")\n",
    "except Exception as e:\n",
    "    print(message, \"... failed:\", e)\n",
    "\n"
   ]
  },
  {
   "cell_type": "markdown",
   "metadata": {},
   "source": [
    "#### **Moodle Quiz (2 Punkte)**\n",
    "\n",
    "Kopiere den Test-Output in das Moodle Quiz"
   ]
  }
 ],
 "metadata": {
  "kernelspec": {
   "display_name": "py311",
   "language": "python",
   "name": "python3"
  },
  "language_info": {
   "codemirror_mode": {
    "name": "ipython",
    "version": 3
   },
   "file_extension": ".py",
   "mimetype": "text/x-python",
   "name": "python",
   "nbconvert_exporter": "python",
   "pygments_lexer": "ipython3",
   "version": "3.11.7"
  }
 },
 "nbformat": 4,
 "nbformat_minor": 2
}
